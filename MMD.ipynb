{
  "nbformat": 4,
  "nbformat_minor": 0,
  "metadata": {
    "colab": {
      "name": "MMD.ipynb",
      "provenance": [],
      "authorship_tag": "ABX9TyMlgPArX5BP1mD/eVscZJZo",
      "include_colab_link": true
    },
    "kernelspec": {
      "name": "python3",
      "display_name": "Python 3"
    },
    "language_info": {
      "name": "python"
    }
  },
  "cells": [
    {
      "cell_type": "markdown",
      "metadata": {
        "id": "view-in-github",
        "colab_type": "text"
      },
      "source": [
        "<a href=\"https://colab.research.google.com/github/sa32953/advanced_deep_learning/blob/master/MMD.ipynb\" target=\"_parent\"><img src=\"https://colab.research.google.com/assets/colab-badge.svg\" alt=\"Open In Colab\"/></a>"
      ]
    },
    {
      "cell_type": "code",
      "metadata": {
        "colab": {
          "base_uri": "https://localhost:8080/"
        },
        "id": "314cMPqIToXA",
        "outputId": "7d2ca18a-9c9a-4862-947b-4f8b7316ca60"
      },
      "source": [
        "import tensorflow as tf\n",
        "print(tf.__version__)\n",
        "\n",
        "import tensorflow_datasets as tfds"
      ],
      "execution_count": 304,
      "outputs": [
        {
          "output_type": "stream",
          "text": [
            "2.4.1\n"
          ],
          "name": "stdout"
        }
      ]
    },
    {
      "cell_type": "markdown",
      "metadata": {
        "id": "JcZ6kdcd8lGl"
      },
      "source": [
        "Load the Datasets :In this case we use tfds command from Tensorflow to load the following 2 datasets.\n",
        "1. MNIST\n",
        "2. binary_alpha_digits"
      ]
    },
    {
      "cell_type": "code",
      "metadata": {
        "colab": {
          "base_uri": "https://localhost:8080/"
        },
        "id": "YX61U2fzmqA8",
        "outputId": "cd6ae594-a689-4b50-8be6-91e0a6f2ba82"
      },
      "source": [
        "# Load Datasets\n",
        "mnist = tfds.load('mnist', split='train', shuffle_files=True)\n",
        "binary_alpha = tfds.load('binary_alpha_digits', split='train', shuffle_files=True)\n",
        "\n",
        "# Print Basic Infos\n",
        "print('Info about MNIST: ',mnist)\n",
        "print('Info about Binary Alpha:',binary_alpha)"
      ],
      "execution_count": 305,
      "outputs": [
        {
          "output_type": "stream",
          "text": [
            "Info about MNIST:  <_OptionsDataset shapes: {image: (28, 28, 1), label: ()}, types: {image: tf.uint8, label: tf.int64}>\n",
            "Info about Binary Alpha: <_OptionsDataset shapes: {image: (20, 16, 1), label: ()}, types: {image: tf.uint8, label: tf.int64}>\n"
          ],
          "name": "stdout"
        }
      ]
    },
    {
      "cell_type": "code",
      "metadata": {
        "id": "A8whqykymqHf"
      },
      "source": [
        ""
      ],
      "execution_count": 305,
      "outputs": []
    },
    {
      "cell_type": "code",
      "metadata": {
        "colab": {
          "base_uri": "https://localhost:8080/",
          "height": 548
        },
        "id": "Zl0p-iPFmqJj",
        "outputId": "9378c41e-0d67-4a42-ac69-39cf927d1621"
      },
      "source": [
        "# Visualize 1 sample from each dataset\n",
        "\n",
        "from matplotlib import pyplot\n",
        "import numpy as np\n",
        "\n",
        "###################\n",
        "## Plot Function ##\n",
        "###################\n",
        "\n",
        "def print_sample(dataset):\n",
        "  sample = dataset.take(1) # sample 1 \n",
        "  for each in sample:\n",
        "    image = each[\"image\"] # Read the data under 'image' key\n",
        "    image = np.array(image) # convert to np\n",
        "    pyplot.imshow(image.reshape(image.shape[0],image.shape[1]), cmap=pyplot.get_cmap('gray')) # 3d to 2d arr\n",
        "    pyplot.show()\n",
        "\n",
        "print('Visualize MNIST:')\n",
        "print_sample(mnist)\n",
        "print('Visualize Binary Alpha:')\n",
        "print_sample(binary_alpha)\n"
      ],
      "execution_count": 306,
      "outputs": [
        {
          "output_type": "stream",
          "text": [
            "Visualize MNIST:\n"
          ],
          "name": "stdout"
        },
        {
          "output_type": "display_data",
          "data": {
            "image/png": "[encoded data removed]",
            "text/plain": [
              "<Figure size 432x288 with 1 Axes>"
            ]
          },
          "metadata": {
            "tags": [],
            "needs_background": "light"
          }
        },
        {
          "output_type": "stream",
          "text": [
            "Visualize Binary Alpha:\n"
          ],
          "name": "stdout"
        },
        {
          "output_type": "display_data",
          "data": {
            "image/png": "[encoded data removed]",
            "text/plain": [
              "<Figure size 432x288 with 1 Axes>"
            ]
          },
          "metadata": {
            "tags": [],
            "needs_background": "light"
          }
        }
      ]
    },
    {
      "cell_type": "code",
      "metadata": {
        "id": "C6o1F1Ot_UZE"
      },
      "source": [
        "############################\n",
        "##   Domain Vector Prep   ##\n",
        "############################\n",
        "\n",
        "def domain_prep(dataset,count, img_height = 20, img_width = 16):\n",
        "\n",
        "  instances = dataset.take(count) # sample a dataset\n",
        "  i = 0\n",
        "  for example in instances:  # example is `{'image': tf.Tensor, 'label': tf.Tensor}`\n",
        "    image = example[\"image\"]\n",
        "    \n",
        "    # Rescale if using MNIST dataset\n",
        "    if dataset == mnist:\n",
        "      image = tf.image.resize(image, [img_height,img_width]) # New size same as Binary Alpha\n",
        "    \n",
        "    # Stack all samples from 1 domain into a p,q matrix where p = size of 1 sample and q = number of samples\n",
        "    if i==0:\n",
        "      domain_arr = np.array(image).reshape(np.multiply(img_height,img_width),1)\n",
        "    else:\n",
        "      domain_arr = np.hstack((domain_arr, np.array(image).reshape(np.multiply(img_height,img_width),1)))\n",
        "\n",
        "    i+=1\n",
        "\n",
        "  # Rescale array to 0~1, otherwise overflow\n",
        "  return domain_arr/256.\n"
      ],
      "execution_count": 307,
      "outputs": []
    },
    {
      "cell_type": "code",
      "metadata": {
        "colab": {
          "base_uri": "https://localhost:8080/"
        },
        "id": "yutbERkS_Uct",
        "outputId": "7d966dfb-4ddd-401d-bd28-7ef6d42d305d"
      },
      "source": [
        "count = 1000 # How many samples\n",
        "\n",
        "X_m = domain_prep(mnist,count) # Domain 1\n",
        "Y_b = domain_prep(binary_alpha,count) # Domain 2\n",
        "\n",
        "# Checkpoint\n",
        "print('Equality of Domain Characterics :', X_m.shape == Y_b.shape)\n",
        "print('Size, count of Domain is', X_m.shape)\n"
      ],
      "execution_count": 308,
      "outputs": [
        {
          "output_type": "stream",
          "text": [
            "Equality of Domain Characterics : True\n",
            "Size, count of Domain is (320, 1000)\n"
          ],
          "name": "stdout"
        }
      ]
    },
    {
      "cell_type": "code",
      "metadata": {
        "id": "rABx_9tPoeBZ"
      },
      "source": [
        ""
      ],
      "execution_count": 308,
      "outputs": []
    },
    {
      "cell_type": "code",
      "metadata": {
        "colab": {
          "base_uri": "https://localhost:8080/"
        },
        "id": "XZlgCODAoeEU",
        "outputId": "dce7e322-3254-4a68-e133-728c277897a0"
      },
      "source": [
        "from sklearn.metrics.pairwise import rbf_kernel\n",
        "\n",
        "# Compute Gram matrices of Kernels\n",
        "gram_K1 = rbf_kernel(np.transpose(X_m)) # K(x,x)\n",
        "gram_K2 = rbf_kernel(np.transpose(Y_b)) # K(y,y)\n",
        "gram_K3 = rbf_kernel(np.transpose(X_m),np.transpose(Y_b)) # K(x,y)\n",
        "\n",
        "print('The Gram of X and Y looks like:\\n',gram_K3)"
      ],
      "execution_count": 309,
      "outputs": [
        {
          "output_type": "stream",
          "text": [
            "The Gram of X and Y looks like:\n",
            " [[0.94507829 0.94477088 0.94485668 ... 0.94530585 0.94499554 0.94509676]\n",
            " [0.94381119 0.94351091 0.94355911 ... 0.94397872 0.94359045 0.94377612]\n",
            " [0.85587716 0.85524102 0.8556341  ... 0.8564874  0.85589732 0.85584302]\n",
            " ...\n",
            " [0.89843211 0.89808515 0.89815264 ... 0.89896345 0.89858719 0.89838247]\n",
            " [0.81892406 0.8183397  0.81869716 ... 0.81969888 0.81889562 0.81872976]\n",
            " [0.92760324 0.92733032 0.92734852 ... 0.92791774 0.92750787 0.92765055]]\n"
          ],
          "name": "stdout"
        }
      ]
    },
    {
      "cell_type": "code",
      "metadata": {
        "id": "jFi3lW5omqNX"
      },
      "source": [
        "# https://onurtunali.github.io/ml/2019/03/08/maximum-mean-discrepancy-in-machine-learning.html\n",
        "# See above link for MMD equations\n",
        "\n",
        "# Only the non diagonal elements are to be summed when computing from K(x,x) or K(y,y)\n",
        "def sum_without_ij(gram):\n",
        "  diag = np.eye(gram.shape[0]) # Identity of same size\n",
        "  gram_without_ij = np.subtract(gram,diag) \n",
        "  sum = np.sum(gram_without_ij)\n",
        "\n",
        "  # Mean as per eq (5) in link above\n",
        "  mean = 1./(count*(count-1))*sum\n",
        "  return mean\n",
        "\n",
        "def sum_with_ij(gram):\n",
        "\n",
        "  sum = np.sum(gram)\n",
        "  \n",
        "  # Mean as per eq (5) in link above\n",
        "  mean = 2./(np.square(count))*sum\n",
        "  return mean"
      ],
      "execution_count": 310,
      "outputs": []
    },
    {
      "cell_type": "code",
      "metadata": {
        "colab": {
          "base_uri": "https://localhost:8080/"
        },
        "id": "WkTdkFOjHQpA",
        "outputId": "c863a2f2-ddc7-4807-e3c7-7548e8963206"
      },
      "source": [
        "MMD = sum_without_ij(gram_K1) - sum_with_ij(gram_K3) + sum_without_ij(gram_K2)\n",
        "print('MMD result of MNIST and Binary Aplha Dataset is',MMD)"
      ],
      "execution_count": 311,
      "outputs": [
        {
          "output_type": "stream",
          "text": [
            "MMD result of MNIST and Binary Aplha Dataset is 0.08330785121896278\n"
          ],
          "name": "stdout"
        }
      ]
    },
    {
      "cell_type": "code",
      "metadata": {
        "id": "yNVZEdNGxKN3"
      },
      "source": [
        ""
      ],
      "execution_count": 311,
      "outputs": []
    },
    {
      "cell_type": "code",
      "metadata": {
        "id": "RC1AZi2lxKaR"
      },
      "source": [
        ""
      ],
      "execution_count": 311,
      "outputs": []
    },
    {
      "cell_type": "code",
      "metadata": {
        "id": "Ag__SN6gmqQd"
      },
      "source": [
        "# Manual Cal\n",
        "#a,b = X[:,0], X[:,3]\n",
        "\n",
        "#gamma = 1.0/784.0\n",
        "#norm = np.linalg.norm(np.subtract(a,b),2)\n",
        "#norm = np.square(norm)\n",
        "#print(norm)\n",
        "#norm *=-gamma \n",
        "#np.exp(norm)\n",
        "#print(np.exp(norm))"
      ],
      "execution_count": 312,
      "outputs": []
    }
  ]
}